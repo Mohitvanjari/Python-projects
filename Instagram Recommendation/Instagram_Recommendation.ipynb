{
 "cells": [
  {
   "cell_type": "code",
   "execution_count": 7,
   "id": "6d0c1c5a-929a-482e-8243-813bbe842814",
   "metadata": {},
   "outputs": [
    {
     "name": "stdout",
     "output_type": "stream",
     "text": [
      "         Date  Impressions  From Home  From Hashtags  From Explore  \\\n",
      "0  2021-12-10         3920       2586           1028           619   \n",
      "1  2021-12-11         5394       2727           1838          1174   \n",
      "2  2021-12-12         4021       2085           1188             0   \n",
      "3  2021-12-13         4528       2700            621           932   \n",
      "4  2021-12-14         2518       1704            255           279   \n",
      "\n",
      "   From Other  Saves  Comments  Shares  Likes  Profile Visits  Follows  \\\n",
      "0          56     98         9       5    162              35        2   \n",
      "1          78    194         7      14    224              48       10   \n",
      "2         533     41        11       1    131              62       12   \n",
      "3          73    172        10       7    213              23        8   \n",
      "4          37     96         5       4    123               8        0   \n",
      "\n",
      "   Conversion Rate                                            Caption  \\\n",
      "0         5.714286  Here are some of the most important data visua...   \n",
      "1        20.833333  Here are some of the best data science project...   \n",
      "2        19.354839  Learn how to train a machine learning model an...   \n",
      "3        34.782609  Here’s how you can write a Python program to d...   \n",
      "4         0.000000  Plotting annotations while visualizing your da...   \n",
      "\n",
      "                                            Hashtags  \n",
      "0  #finance #money #business #investing #investme...  \n",
      "1  #healthcare #health #covid #data #datascience ...  \n",
      "2  #data #datascience #dataanalysis #dataanalytic...  \n",
      "3  #python #pythonprogramming #pythonprojects #py...  \n",
      "4  #datavisualization #datascience #data #dataana...  \n"
     ]
    }
   ],
   "source": [
    "import pandas as pd\n",
    "from sklearn.feature_extraction.text import TfidfVectorizer\n",
    "from sklearn.metrics.pairwise import cosine_similarity\n",
    "\n",
    "data = pd.read_csv(\"Instagram_Data.csv\")\n",
    "print(data.head())"
   ]
  },
  {
   "cell_type": "code",
   "execution_count": 8,
   "id": "d89ef7b3-b6cc-430f-b565-496a871015eb",
   "metadata": {},
   "outputs": [
    {
     "name": "stdout",
     "output_type": "stream",
     "text": [
      "                                             Caption  \\\n",
      "0  Here are some of the most important data visua...   \n",
      "1  Here are some of the best data science project...   \n",
      "2  Learn how to train a machine learning model an...   \n",
      "3  Here’s how you can write a Python program to d...   \n",
      "4  Plotting annotations while visualizing your da...   \n",
      "\n",
      "                                            Hashtags  \n",
      "0  #finance #money #business #investing #investme...  \n",
      "1  #healthcare #health #covid #data #datascience ...  \n",
      "2  #data #datascience #dataanalysis #dataanalytic...  \n",
      "3  #python #pythonprogramming #pythonprojects #py...  \n",
      "4  #datavisualization #datascience #data #dataana...  \n"
     ]
    }
   ],
   "source": [
    "data = data[[\"Caption\", \"Hashtags\"]]\n",
    "print(data.head())"
   ]
  },
  {
   "cell_type": "code",
   "execution_count": 9,
   "id": "4d00d3a9-c851-456b-9bed-5040cabc52e4",
   "metadata": {},
   "outputs": [
    {
     "name": "stdout",
     "output_type": "stream",
     "text": [
      "                                             Caption  \\\n",
      "0  Here are some of the most important data visua...   \n",
      "1  Here are some of the best data science project...   \n",
      "2  Learn how to train a machine learning model an...   \n",
      "3  Here’s how you can write a Python program to d...   \n",
      "4  Plotting annotations while visualizing your da...   \n",
      "\n",
      "                                            Hashtags   Recommended Post  \n",
      "0  #finance #money #business #investing #investme...     62, 88, 47, 55  \n",
      "1  #healthcare #health #covid #data #datascience ...    139, 173, 61, 1  \n",
      "2  #data #datascience #dataanalysis #dataanalytic...    86, 19, 169, 52  \n",
      "3  #python #pythonprogramming #pythonprojects #py...  142, 66, 136, 170  \n",
      "4  #datavisualization #datascience #data #dataana...   113, 127, 88, 47  \n"
     ]
    }
   ],
   "source": [
    "captions = data[\"Caption\"].tolist()\n",
    "uni_tfidf = TfidfVectorizer(stop_words=\"english\")\n",
    "uni_matrix = uni_tfidf.fit_transform(captions)\n",
    "uni_sim = cosine_similarity(uni_matrix)\n",
    "\n",
    "def recommend_post(x):\n",
    "    return \", \".join(data.index[x.argsort()[-5:-1]].astype(str))\n",
    "\n",
    "data[\"Recommended Post\"] = [recommend_post(x) for x in uni_sim]\n",
    "print(data.head())\n"
   ]
  },
  {
   "cell_type": "code",
   "execution_count": 13,
   "id": "8ac35edf-0c22-4042-a0e8-9bd0c32903bd",
   "metadata": {},
   "outputs": [
    {
     "name": "stdout",
     "output_type": "stream",
     "text": [
      "113, 127, 88, 47\n"
     ]
    }
   ],
   "source": [
    "print(data[\"Recommended Post\"][4])\n"
   ]
  },
  {
   "cell_type": "code",
   "execution_count": null,
   "id": "5ceb99a6-4eb8-4108-81cb-47db75b39112",
   "metadata": {},
   "outputs": [],
   "source": []
  }
 ],
 "metadata": {
  "kernelspec": {
   "display_name": "Python 3 (ipykernel)",
   "language": "python",
   "name": "python3"
  },
  "language_info": {
   "codemirror_mode": {
    "name": "ipython",
    "version": 3
   },
   "file_extension": ".py",
   "mimetype": "text/x-python",
   "name": "python",
   "nbconvert_exporter": "python",
   "pygments_lexer": "ipython3",
   "version": "3.11.7"
  }
 },
 "nbformat": 4,
 "nbformat_minor": 5
}
